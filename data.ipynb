{
  "nbformat": 4,
  "nbformat_minor": 0,
  "metadata": {
    "colab": {
      "provenance": [],
      "authorship_tag": "ABX9TyPpSnTzw2HqZFAEck7bj4rB",
      "include_colab_link": true
    },
    "kernelspec": {
      "name": "python3",
      "display_name": "Python 3"
    },
    "language_info": {
      "name": "python"
    }
  },
  "cells": [
    {
      "cell_type": "markdown",
      "metadata": {
        "id": "view-in-github",
        "colab_type": "text"
      },
      "source": [
        "<a href=\"https://colab.research.google.com/github/jyotinain/Inkprog_Assignment/blob/main/data.ipynb\" target=\"_parent\"><img src=\"https://colab.research.google.com/assets/colab-badge.svg\" alt=\"Open In Colab\"/></a>"
      ]
    },
    {
      "cell_type": "markdown",
      "source": [
        "#Task 1\n",
        "Create a csv file with fist attribute as x-coordinate and second attributes as y coordinate with x and y values\n",
        "ranging between [0; 10] and the number of rows can between [10 - 20] of your choice."
      ],
      "metadata": {
        "id": "gHPW1By_6tsi"
      }
    },
    {
      "cell_type": "code",
      "execution_count": null,
      "metadata": {
        "colab": {
          "base_uri": "https://localhost:8080/"
        },
        "id": "258JfmzJ539S",
        "outputId": "dec2e1a2-5825-4aa6-cf1f-eb8864cf52e2"
      },
      "outputs": [
        {
          "output_type": "stream",
          "name": "stdout",
          "text": [
            "CSV file 'coordinates.csv' has been created with 16 rows of random coordinates.\n"
          ]
        }
      ],
      "source": [
        "import csv\n",
        "import random\n",
        "\n",
        "# Define the file name\n",
        "file_name = \"coordinates.csv\"\n",
        "\n",
        "# Define the number of rows (random between 10 and 20)\n",
        "num_rows = random.randint(10, 20)\n",
        "\n",
        "# Define the range for x and y coordinates\n",
        "min_coordinate = 0\n",
        "max_coordinate = 10\n",
        "\n",
        "# Create and open the CSV file in write mode\n",
        "with open(file_name, mode='w', newline='') as csv_file:\n",
        "    fieldnames = ['x-coordinate', 'y-coordinate']\n",
        "    writer = csv.DictWriter(csv_file, fieldnames=fieldnames)\n",
        "\n",
        "    # Write the header row\n",
        "    writer.writeheader()\n",
        "\n",
        "    # Generate and write random coordinates to the file\n",
        "    for _ in range(num_rows):\n",
        "        x_coord = round(random.uniform(min_coordinate, max_coordinate), 2)\n",
        "        y_coord = round(random.uniform(min_coordinate, max_coordinate), 2)\n",
        "        writer.writerow({'x-coordinate': x_coord, 'y-coordinate': y_coord})\n",
        "\n",
        "print(f\"CSV file '{file_name}' has been created with {num_rows} rows of random coordinates.\")"
      ]
    },
    {
      "cell_type": "markdown",
      "source": [
        "#Task 2\n",
        "Using the created csv file find the best line that fits the data (linear regression) using. python. Write the\n",
        "equation of the line its slope and y intercept end of the code."
      ],
      "metadata": {
        "id": "xCBVLZHW6ohQ"
      }
    },
    {
      "cell_type": "code",
      "source": [
        "import numpy as np\n",
        "from sklearn.linear_model import LinearRegression\n",
        "\n",
        "# Load the data from the CSV file\n",
        "data = []\n",
        "with open(\"coordinates.csv\", mode=\"r\") as csv_file:\n",
        "    csv_reader = csv.DictReader(csv_file)\n",
        "    for row in csv_reader:\n",
        "        data.append([float(row['x-coordinate']), float(row['y-coordinate'])])\n",
        "\n",
        "# Separate the x and y values\n",
        "x_values = np.array([row[0] for row in data]).reshape(-1, 1)\n",
        "y_values = np.array([row[1] for row in data])\n",
        "\n",
        "# Create a linear regression model\n",
        "model = LinearRegression()\n",
        "model.fit(x_values, y_values)\n",
        "\n",
        "# Get the slope and y-intercept of the best-fitting line\n",
        "slope = model.coef_[0]\n",
        "y_intercept = model.intercept_\n",
        "\n",
        "# Print the equation of the line, slope, and y-intercept\n",
        "equation_of_line = f\"y = {slope:.2f}x + {y_intercept:.2f}\"\n",
        "\n",
        "print(\"Linear Regression Results:\")\n",
        "print(f\"Equation of the line: {equation_of_line}\")\n",
        "print(f\"Slope: {slope:.2f}\")\n",
        "print(f\"Y-intercept: {y_intercept:.2f}\")"
      ],
      "metadata": {
        "colab": {
          "base_uri": "https://localhost:8080/"
        },
        "id": "-36FICJk6sZG",
        "outputId": "bdf200f1-9706-4454-8ea3-ae1121c7d1af"
      },
      "execution_count": null,
      "outputs": [
        {
          "output_type": "stream",
          "name": "stdout",
          "text": [
            "Linear Regression Results:\n",
            "Equation of the line: y = 0.22x + 2.94\n",
            "Slope: 0.22\n",
            "Y-intercept: 2.94\n"
          ]
        }
      ]
    },
    {
      "cell_type": "markdown",
      "source": [
        "#Task 3\n",
        "Using manim library create a video visulization where an x , y axis is created and then plot the points in the csv\n",
        "file you created and draw then the line we got after applying linear regression on the csv file data points and\n",
        "write the equation of the line using latex. To make your output unique add a title card with Name: linear\n",
        "regression and your name below it."
      ],
      "metadata": {
        "id": "lWSkSL5e7J62"
      }
    },
    {
      "cell_type": "code",
      "source": [
        "from manim import *\n",
        "import numpy as np\n",
        "import pandas as pd\n",
        "import csv\n",
        "from statistics import LinearRegression, linear_regression\n",
        "from manim.mobject.graphing.functions import ImplicitFunction, ParametricFunction\n",
        "\n",
        "class graph(Scene):\n",
        "    def construct(self):\n",
        "        # Open and read the CSV file (replace with your CSV file path)\n",
        "        with open(\"C:/Users/JYOTI NAIN/Downloads/manim_project/coordinates (1).csv\", mode='r') as file:\n",
        "            csv_reader = csv.reader(file)\n",
        "            data = [list(map(float, row)) for row in csv_reader if row[0] != 'x-coordinate']\n",
        "\n",
        "\n",
        "        # Separate the x and y coordinates\n",
        "        x_values = [row[0] for row in data]\n",
        "        y_values = [row[1] for row in data]\n",
        "\n",
        "\n",
        "\n",
        "          # Create axes\n",
        "        axes = Axes(\n",
        "            x_range=[min(x_values), max(x_values)],\n",
        "            y_range=[min(y_values), max(y_values)],\n",
        "            axis_config={\"color\": BLUE},\n",
        "\n",
        "        )\n",
        "\n",
        "        # Create data points\n",
        "        points = [Dot(axes.c2p(x, y)) for x, y in zip(x_values, y_values)]\n",
        "\n",
        "         # Add labels to the axes\n",
        "        x_label = axes.get_x_axis_label(Text(\"X Axis\"))\n",
        "        y_label = axes.get_y_axis_label(Text(\"Y Axis\"))\n",
        "        self.play(Write(x_label), Write(y_label))\n",
        "\n",
        "       # Add numerical labels to the axes\n",
        "        axes.x_axis.add_numbers(range(int(min(x_values)), int(max(x_values)) + 1, 1))\n",
        "        axes.y_axis.add_numbers(range(int(min(y_values)), int(max(y_values)) + 1, 1))\n",
        "\n",
        "\n",
        "        # Add axes, points, and lines to the scene\n",
        "        self.play(Create(axes))\n",
        "        self.play(*[Create(point) for point in points])\n",
        "        self.wait()\n",
        "\n",
        "\n",
        "\n",
        "\n",
        "class LinearRegressionVisualization(Scene):\n",
        "    def construct(self):\n",
        "        # Create title card\n",
        "        title = Tex(\"Visualizing Linear Regression\", font_size=60)\n",
        "        your_name = Tex(\"JYOTI NAIN\", font_size=48)\n",
        "        title_card = VGroup(title, your_name).arrange(DOWN)\n",
        "        self.play(Create(title_card))\n",
        "        self.wait(2)\n",
        "\n",
        "\n",
        "\n",
        "class LinearRegressionEquation(Scene):\n",
        "    def construct(self):\n",
        "        # Create the equation using LaTeX\n",
        "        equation = MathTex(r'y = mx + b', font_size=48)\n",
        "\n",
        "        # Position the equation on the screen\n",
        "        equation.move_to(ORIGIN)\n",
        "\n",
        "        # Add the equation to the scene\n",
        "        self.play(Create(equation))\n",
        "        self.wait(2)\n",
        "\n",
        "\n",
        "\n",
        "\n",
        "\n",
        "\n",
        "\n",
        "\n",
        ""
      ],
      "metadata": {
        "id": "ncTpoVuc7L9L"
      },
      "execution_count": null,
      "outputs": []
    }
  ]
}